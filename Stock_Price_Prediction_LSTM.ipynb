{
  "nbformat": 4,
  "nbformat_minor": 0,
  "metadata": {
    "colab": {
      "provenance": []
    },
    "kernelspec": {
      "name": "python3",
      "display_name": "Python 3"
    },
    "language_info": {
      "name": "python"
    }
  },
  "cells": [
    {
      "cell_type": "code",
      "execution_count": 1,
      "metadata": {
        "id": "zhBwi_NIWFpg"
      },
      "outputs": [],
      "source": [
        "import pandas as pd\n",
        "import numpy as np\n",
        "import tensorflow as tf\n",
        "from tensorflow.keras.models import Sequential\n",
        "from tensorflow.keras.layers import Dense, Dropout, Activation, Flatten, Conv2D, MaxPooling2D\n",
        "import seaborn as sb\n",
        "import random as rd\n",
        "import matplotlib.pyplot as plt\n",
        "from sklearn import metrics\n",
        "from sklearn.model_selection import train_test_split\n",
        "from sklearn.model_selection import cross_val_score\n",
        "from sklearn.metrics import classification_report, precision_score, accuracy_score, recall_score, f1_score, confusion_matrix"
      ]
    },
    {
      "cell_type": "code",
      "source": [
        "url = 'https://raw.githubusercontent.com/mwitiderrick/stockprice/master/NSE-TATAGLOBAL.csv'\n",
        "dataset_train = pd.read_csv(url)\n",
        "training_set = dataset_train.iloc[:, 1:2].values"
      ],
      "metadata": {
        "id": "n2izkDh-WiTS"
      },
      "execution_count": 2,
      "outputs": []
    },
    {
      "cell_type": "code",
      "source": [
        "dataset_train.head()"
      ],
      "metadata": {
        "colab": {
          "base_uri": "https://localhost:8080/",
          "height": 206
        },
        "id": "PZPeMIZCWni6",
        "outputId": "9139f3eb-1ca7-4913-80b0-e8360b03c3b9"
      },
      "execution_count": 3,
      "outputs": [
        {
          "output_type": "execute_result",
          "data": {
            "text/plain": [
              "         Date    Open    High     Low    Last   Close  Total Trade Quantity  \\\n",
              "0  2018-09-28  234.05  235.95  230.20  233.50  233.75               3069914   \n",
              "1  2018-09-27  234.55  236.80  231.10  233.80  233.25               5082859   \n",
              "2  2018-09-26  240.00  240.00  232.50  235.00  234.25               2240909   \n",
              "3  2018-09-25  233.30  236.75  232.00  236.25  236.10               2349368   \n",
              "4  2018-09-24  233.55  239.20  230.75  234.00  233.30               3423509   \n",
              "\n",
              "   Turnover (Lacs)  \n",
              "0          7162.35  \n",
              "1         11859.95  \n",
              "2          5248.60  \n",
              "3          5503.90  \n",
              "4          7999.55  "
            ],
            "text/html": [
              "\n",
              "  <div id=\"df-658e4d14-d372-4816-a7a9-7cdacba486cc\">\n",
              "    <div class=\"colab-df-container\">\n",
              "      <div>\n",
              "<style scoped>\n",
              "    .dataframe tbody tr th:only-of-type {\n",
              "        vertical-align: middle;\n",
              "    }\n",
              "\n",
              "    .dataframe tbody tr th {\n",
              "        vertical-align: top;\n",
              "    }\n",
              "\n",
              "    .dataframe thead th {\n",
              "        text-align: right;\n",
              "    }\n",
              "</style>\n",
              "<table border=\"1\" class=\"dataframe\">\n",
              "  <thead>\n",
              "    <tr style=\"text-align: right;\">\n",
              "      <th></th>\n",
              "      <th>Date</th>\n",
              "      <th>Open</th>\n",
              "      <th>High</th>\n",
              "      <th>Low</th>\n",
              "      <th>Last</th>\n",
              "      <th>Close</th>\n",
              "      <th>Total Trade Quantity</th>\n",
              "      <th>Turnover (Lacs)</th>\n",
              "    </tr>\n",
              "  </thead>\n",
              "  <tbody>\n",
              "    <tr>\n",
              "      <th>0</th>\n",
              "      <td>2018-09-28</td>\n",
              "      <td>234.05</td>\n",
              "      <td>235.95</td>\n",
              "      <td>230.20</td>\n",
              "      <td>233.50</td>\n",
              "      <td>233.75</td>\n",
              "      <td>3069914</td>\n",
              "      <td>7162.35</td>\n",
              "    </tr>\n",
              "    <tr>\n",
              "      <th>1</th>\n",
              "      <td>2018-09-27</td>\n",
              "      <td>234.55</td>\n",
              "      <td>236.80</td>\n",
              "      <td>231.10</td>\n",
              "      <td>233.80</td>\n",
              "      <td>233.25</td>\n",
              "      <td>5082859</td>\n",
              "      <td>11859.95</td>\n",
              "    </tr>\n",
              "    <tr>\n",
              "      <th>2</th>\n",
              "      <td>2018-09-26</td>\n",
              "      <td>240.00</td>\n",
              "      <td>240.00</td>\n",
              "      <td>232.50</td>\n",
              "      <td>235.00</td>\n",
              "      <td>234.25</td>\n",
              "      <td>2240909</td>\n",
              "      <td>5248.60</td>\n",
              "    </tr>\n",
              "    <tr>\n",
              "      <th>3</th>\n",
              "      <td>2018-09-25</td>\n",
              "      <td>233.30</td>\n",
              "      <td>236.75</td>\n",
              "      <td>232.00</td>\n",
              "      <td>236.25</td>\n",
              "      <td>236.10</td>\n",
              "      <td>2349368</td>\n",
              "      <td>5503.90</td>\n",
              "    </tr>\n",
              "    <tr>\n",
              "      <th>4</th>\n",
              "      <td>2018-09-24</td>\n",
              "      <td>233.55</td>\n",
              "      <td>239.20</td>\n",
              "      <td>230.75</td>\n",
              "      <td>234.00</td>\n",
              "      <td>233.30</td>\n",
              "      <td>3423509</td>\n",
              "      <td>7999.55</td>\n",
              "    </tr>\n",
              "  </tbody>\n",
              "</table>\n",
              "</div>\n",
              "      <button class=\"colab-df-convert\" onclick=\"convertToInteractive('df-658e4d14-d372-4816-a7a9-7cdacba486cc')\"\n",
              "              title=\"Convert this dataframe to an interactive table.\"\n",
              "              style=\"display:none;\">\n",
              "        \n",
              "  <svg xmlns=\"http://www.w3.org/2000/svg\" height=\"24px\"viewBox=\"0 0 24 24\"\n",
              "       width=\"24px\">\n",
              "    <path d=\"M0 0h24v24H0V0z\" fill=\"none\"/>\n",
              "    <path d=\"M18.56 5.44l.94 2.06.94-2.06 2.06-.94-2.06-.94-.94-2.06-.94 2.06-2.06.94zm-11 1L8.5 8.5l.94-2.06 2.06-.94-2.06-.94L8.5 2.5l-.94 2.06-2.06.94zm10 10l.94 2.06.94-2.06 2.06-.94-2.06-.94-.94-2.06-.94 2.06-2.06.94z\"/><path d=\"M17.41 7.96l-1.37-1.37c-.4-.4-.92-.59-1.43-.59-.52 0-1.04.2-1.43.59L10.3 9.45l-7.72 7.72c-.78.78-.78 2.05 0 2.83L4 21.41c.39.39.9.59 1.41.59.51 0 1.02-.2 1.41-.59l7.78-7.78 2.81-2.81c.8-.78.8-2.07 0-2.86zM5.41 20L4 18.59l7.72-7.72 1.47 1.35L5.41 20z\"/>\n",
              "  </svg>\n",
              "      </button>\n",
              "      \n",
              "  <style>\n",
              "    .colab-df-container {\n",
              "      display:flex;\n",
              "      flex-wrap:wrap;\n",
              "      gap: 12px;\n",
              "    }\n",
              "\n",
              "    .colab-df-convert {\n",
              "      background-color: #E8F0FE;\n",
              "      border: none;\n",
              "      border-radius: 50%;\n",
              "      cursor: pointer;\n",
              "      display: none;\n",
              "      fill: #1967D2;\n",
              "      height: 32px;\n",
              "      padding: 0 0 0 0;\n",
              "      width: 32px;\n",
              "    }\n",
              "\n",
              "    .colab-df-convert:hover {\n",
              "      background-color: #E2EBFA;\n",
              "      box-shadow: 0px 1px 2px rgba(60, 64, 67, 0.3), 0px 1px 3px 1px rgba(60, 64, 67, 0.15);\n",
              "      fill: #174EA6;\n",
              "    }\n",
              "\n",
              "    [theme=dark] .colab-df-convert {\n",
              "      background-color: #3B4455;\n",
              "      fill: #D2E3FC;\n",
              "    }\n",
              "\n",
              "    [theme=dark] .colab-df-convert:hover {\n",
              "      background-color: #434B5C;\n",
              "      box-shadow: 0px 1px 3px 1px rgba(0, 0, 0, 0.15);\n",
              "      filter: drop-shadow(0px 1px 2px rgba(0, 0, 0, 0.3));\n",
              "      fill: #FFFFFF;\n",
              "    }\n",
              "  </style>\n",
              "\n",
              "      <script>\n",
              "        const buttonEl =\n",
              "          document.querySelector('#df-658e4d14-d372-4816-a7a9-7cdacba486cc button.colab-df-convert');\n",
              "        buttonEl.style.display =\n",
              "          google.colab.kernel.accessAllowed ? 'block' : 'none';\n",
              "\n",
              "        async function convertToInteractive(key) {\n",
              "          const element = document.querySelector('#df-658e4d14-d372-4816-a7a9-7cdacba486cc');\n",
              "          const dataTable =\n",
              "            await google.colab.kernel.invokeFunction('convertToInteractive',\n",
              "                                                     [key], {});\n",
              "          if (!dataTable) return;\n",
              "\n",
              "          const docLinkHtml = 'Like what you see? Visit the ' +\n",
              "            '<a target=\"_blank\" href=https://colab.research.google.com/notebooks/data_table.ipynb>data table notebook</a>'\n",
              "            + ' to learn more about interactive tables.';\n",
              "          element.innerHTML = '';\n",
              "          dataTable['output_type'] = 'display_data';\n",
              "          await google.colab.output.renderOutput(dataTable, element);\n",
              "          const docLink = document.createElement('div');\n",
              "          docLink.innerHTML = docLinkHtml;\n",
              "          element.appendChild(docLink);\n",
              "        }\n",
              "      </script>\n",
              "    </div>\n",
              "  </div>\n",
              "  "
            ]
          },
          "metadata": {},
          "execution_count": 3
        }
      ]
    },
    {
      "cell_type": "code",
      "source": [
        "from sklearn.preprocessing import MinMaxScaler\n",
        "sc = MinMaxScaler(feature_range=(0,1))\n",
        "training_set_scaled = sc.fit_transform(training_set)"
      ],
      "metadata": {
        "id": "EpIMsNI0WtPh"
      },
      "execution_count": 4,
      "outputs": []
    },
    {
      "cell_type": "code",
      "source": [
        "X_train = []\n",
        "y_train = []\n",
        "for i in range(60, 2035):\n",
        "    X_train.append(training_set_scaled[i-60:i, 0])\n",
        "    y_train.append(training_set_scaled[i, 0])\n",
        "X_train, y_train = np.array(X_train), np.array(y_train)\n",
        "\n",
        "X_train = np.reshape(X_train, (X_train.shape[0], X_train.shape[1], 1))"
      ],
      "metadata": {
        "id": "VEnA9avgWwZ6"
      },
      "execution_count": 5,
      "outputs": []
    },
    {
      "cell_type": "code",
      "source": [
        "from keras.models import Sequential\n",
        "from keras.layers import LSTM\n",
        "from keras.layers import Dropout\n",
        "from keras.layers import Dense"
      ],
      "metadata": {
        "id": "y1z62FUkWy1A"
      },
      "execution_count": 6,
      "outputs": []
    },
    {
      "cell_type": "code",
      "source": [
        "model = Sequential()\n",
        "\n",
        "model.add(LSTM(units=50,return_sequences=True,input_shape=(X_train.shape[1], 1)))\n",
        "model.add(Dropout(0.2))\n",
        "\n",
        "model.add(LSTM(units=50,return_sequences=True))\n",
        "model.add(Dropout(0.2))\n",
        "\n",
        "model.add(LSTM(units=50,return_sequences=True))\n",
        "model.add(Dropout(0.2))\n",
        "\n",
        "model.add(LSTM(units=50))\n",
        "model.add(Dropout(0.2))\n",
        "\n",
        "model.add(Dense(units=1))"
      ],
      "metadata": {
        "id": "wvc6ZoueW2Gz"
      },
      "execution_count": 7,
      "outputs": []
    },
    {
      "cell_type": "code",
      "source": [
        "model.summary()"
      ],
      "metadata": {
        "colab": {
          "base_uri": "https://localhost:8080/"
        },
        "id": "DkYbJFOhW5Cp",
        "outputId": "34a7866b-0506-4864-d2d0-2f3abe1204ef"
      },
      "execution_count": 8,
      "outputs": [
        {
          "output_type": "stream",
          "name": "stdout",
          "text": [
            "Model: \"sequential\"\n",
            "_________________________________________________________________\n",
            " Layer (type)                Output Shape              Param #   \n",
            "=================================================================\n",
            " lstm (LSTM)                 (None, 60, 50)            10400     \n",
            "                                                                 \n",
            " dropout (Dropout)           (None, 60, 50)            0         \n",
            "                                                                 \n",
            " lstm_1 (LSTM)               (None, 60, 50)            20200     \n",
            "                                                                 \n",
            " dropout_1 (Dropout)         (None, 60, 50)            0         \n",
            "                                                                 \n",
            " lstm_2 (LSTM)               (None, 60, 50)            20200     \n",
            "                                                                 \n",
            " dropout_2 (Dropout)         (None, 60, 50)            0         \n",
            "                                                                 \n",
            " lstm_3 (LSTM)               (None, 50)                20200     \n",
            "                                                                 \n",
            " dropout_3 (Dropout)         (None, 50)                0         \n",
            "                                                                 \n",
            " dense (Dense)               (None, 1)                 51        \n",
            "                                                                 \n",
            "=================================================================\n",
            "Total params: 71,051\n",
            "Trainable params: 71,051\n",
            "Non-trainable params: 0\n",
            "_________________________________________________________________\n"
          ]
        }
      ]
    },
    {
      "cell_type": "code",
      "source": [
        "model.compile(optimizer='adam',loss='mean_squared_error', metrics = ['accuracy'])\n",
        "\n",
        "model.fit(X_train,y_train,epochs=100,batch_size=32)"
      ],
      "metadata": {
        "colab": {
          "base_uri": "https://localhost:8080/"
        },
        "id": "Y1s-uRk2W4_L",
        "outputId": "db182809-f020-4590-ae29-4baf766e8f94"
      },
      "execution_count": 9,
      "outputs": [
        {
          "output_type": "stream",
          "name": "stdout",
          "text": [
            "Epoch 1/100\n",
            "62/62 [==============================] - 16s 112ms/step - loss: 0.0123 - accuracy: 5.0633e-04\n",
            "Epoch 2/100\n",
            "62/62 [==============================] - 8s 135ms/step - loss: 0.0030 - accuracy: 0.0010\n",
            "Epoch 3/100\n",
            "62/62 [==============================] - 12s 199ms/step - loss: 0.0029 - accuracy: 0.0010\n",
            "Epoch 4/100\n",
            "62/62 [==============================] - 9s 140ms/step - loss: 0.0027 - accuracy: 0.0010\n",
            "Epoch 5/100\n",
            "62/62 [==============================] - 8s 121ms/step - loss: 0.0026 - accuracy: 0.0010\n",
            "Epoch 6/100\n",
            "62/62 [==============================] - 10s 155ms/step - loss: 0.0023 - accuracy: 0.0010\n",
            "Epoch 7/100\n",
            "62/62 [==============================] - 17s 272ms/step - loss: 0.0022 - accuracy: 0.0010\n",
            "Epoch 8/100\n",
            "62/62 [==============================] - 9s 137ms/step - loss: 0.0021 - accuracy: 0.0010\n",
            "Epoch 9/100\n",
            "62/62 [==============================] - 7s 112ms/step - loss: 0.0019 - accuracy: 0.0010\n",
            "Epoch 10/100\n",
            "62/62 [==============================] - 8s 131ms/step - loss: 0.0018 - accuracy: 0.0010\n",
            "Epoch 11/100\n",
            "62/62 [==============================] - 8s 130ms/step - loss: 0.0019 - accuracy: 0.0010\n",
            "Epoch 12/100\n",
            "62/62 [==============================] - 11s 179ms/step - loss: 0.0019 - accuracy: 0.0010\n",
            "Epoch 13/100\n",
            "62/62 [==============================] - 8s 125ms/step - loss: 0.0017 - accuracy: 0.0010\n",
            "Epoch 14/100\n",
            "62/62 [==============================] - 8s 133ms/step - loss: 0.0018 - accuracy: 0.0010\n",
            "Epoch 15/100\n",
            "62/62 [==============================] - 7s 112ms/step - loss: 0.0018 - accuracy: 0.0010\n",
            "Epoch 16/100\n",
            "62/62 [==============================] - 8s 134ms/step - loss: 0.0015 - accuracy: 0.0010\n",
            "Epoch 17/100\n",
            "62/62 [==============================] - 8s 129ms/step - loss: 0.0016 - accuracy: 0.0010\n",
            "Epoch 18/100\n",
            "62/62 [==============================] - 9s 137ms/step - loss: 0.0014 - accuracy: 0.0010\n",
            "Epoch 19/100\n",
            "62/62 [==============================] - 9s 153ms/step - loss: 0.0016 - accuracy: 0.0010\n",
            "Epoch 20/100\n",
            "62/62 [==============================] - 8s 132ms/step - loss: 0.0014 - accuracy: 0.0010\n",
            "Epoch 21/100\n",
            "62/62 [==============================] - 7s 111ms/step - loss: 0.0015 - accuracy: 0.0010\n",
            "Epoch 22/100\n",
            "62/62 [==============================] - 8s 129ms/step - loss: 0.0013 - accuracy: 0.0010\n",
            "Epoch 23/100\n",
            "62/62 [==============================] - 7s 111ms/step - loss: 0.0013 - accuracy: 0.0010\n",
            "Epoch 24/100\n",
            "62/62 [==============================] - 8s 129ms/step - loss: 0.0013 - accuracy: 0.0010\n",
            "Epoch 25/100\n",
            "62/62 [==============================] - 9s 142ms/step - loss: 0.0014 - accuracy: 0.0010\n",
            "Epoch 26/100\n",
            "62/62 [==============================] - 9s 145ms/step - loss: 0.0013 - accuracy: 0.0010\n",
            "Epoch 27/100\n",
            "62/62 [==============================] - 11s 177ms/step - loss: 0.0012 - accuracy: 0.0010\n",
            "Epoch 28/100\n",
            "62/62 [==============================] - 14s 227ms/step - loss: 0.0014 - accuracy: 0.0010\n",
            "Epoch 29/100\n",
            "62/62 [==============================] - 9s 149ms/step - loss: 0.0012 - accuracy: 0.0010\n",
            "Epoch 30/100\n",
            "62/62 [==============================] - 8s 131ms/step - loss: 0.0013 - accuracy: 0.0010\n",
            "Epoch 31/100\n",
            "62/62 [==============================] - 7s 111ms/step - loss: 0.0013 - accuracy: 0.0010\n",
            "Epoch 32/100\n",
            "62/62 [==============================] - 8s 134ms/step - loss: 0.0012 - accuracy: 0.0010\n",
            "Epoch 33/100\n",
            "62/62 [==============================] - 7s 110ms/step - loss: 0.0010 - accuracy: 0.0010\n",
            "Epoch 34/100\n",
            "62/62 [==============================] - 8s 130ms/step - loss: 9.7530e-04 - accuracy: 0.0010\n",
            "Epoch 35/100\n",
            "62/62 [==============================] - 8s 131ms/step - loss: 0.0012 - accuracy: 0.0010\n",
            "Epoch 36/100\n",
            "62/62 [==============================] - 7s 111ms/step - loss: 9.6683e-04 - accuracy: 0.0010\n",
            "Epoch 37/100\n",
            "62/62 [==============================] - 8s 133ms/step - loss: 9.9407e-04 - accuracy: 0.0010\n",
            "Epoch 38/100\n",
            "62/62 [==============================] - 7s 112ms/step - loss: 0.0011 - accuracy: 0.0010\n",
            "Epoch 39/100\n",
            "62/62 [==============================] - 8s 134ms/step - loss: 9.7691e-04 - accuracy: 0.0010\n",
            "Epoch 40/100\n",
            "62/62 [==============================] - 9s 146ms/step - loss: 9.7287e-04 - accuracy: 0.0010\n",
            "Epoch 41/100\n",
            "62/62 [==============================] - 7s 110ms/step - loss: 9.1140e-04 - accuracy: 0.0010\n",
            "Epoch 42/100\n",
            "62/62 [==============================] - 8s 132ms/step - loss: 0.0010 - accuracy: 0.0010\n",
            "Epoch 43/100\n",
            "62/62 [==============================] - 8s 123ms/step - loss: 0.0011 - accuracy: 0.0010\n",
            "Epoch 44/100\n",
            "62/62 [==============================] - 8s 120ms/step - loss: 8.8638e-04 - accuracy: 0.0010\n",
            "Epoch 45/100\n",
            "62/62 [==============================] - 9s 140ms/step - loss: 8.1534e-04 - accuracy: 0.0010\n",
            "Epoch 46/100\n",
            "62/62 [==============================] - 7s 110ms/step - loss: 8.4640e-04 - accuracy: 0.0010\n",
            "Epoch 47/100\n",
            "62/62 [==============================] - 8s 132ms/step - loss: 8.7913e-04 - accuracy: 0.0010\n",
            "Epoch 48/100\n",
            "62/62 [==============================] - 8s 128ms/step - loss: 8.4735e-04 - accuracy: 0.0010\n",
            "Epoch 49/100\n",
            "62/62 [==============================] - 7s 115ms/step - loss: 8.5300e-04 - accuracy: 0.0010\n",
            "Epoch 50/100\n",
            "62/62 [==============================] - 8s 129ms/step - loss: 8.4474e-04 - accuracy: 0.0010\n",
            "Epoch 51/100\n",
            "62/62 [==============================] - 7s 118ms/step - loss: 7.8343e-04 - accuracy: 0.0010\n",
            "Epoch 52/100\n",
            "62/62 [==============================] - 8s 128ms/step - loss: 8.5469e-04 - accuracy: 0.0010\n",
            "Epoch 53/100\n",
            "62/62 [==============================] - 8s 124ms/step - loss: 7.1463e-04 - accuracy: 0.0010\n",
            "Epoch 54/100\n",
            "62/62 [==============================] - 7s 115ms/step - loss: 8.2392e-04 - accuracy: 0.0010\n",
            "Epoch 55/100\n",
            "62/62 [==============================] - 8s 131ms/step - loss: 8.6802e-04 - accuracy: 0.0010\n",
            "Epoch 56/100\n",
            "62/62 [==============================] - 7s 110ms/step - loss: 7.7834e-04 - accuracy: 0.0010\n",
            "Epoch 57/100\n",
            "62/62 [==============================] - 8s 129ms/step - loss: 8.6623e-04 - accuracy: 0.0010\n",
            "Epoch 58/100\n",
            "62/62 [==============================] - 8s 124ms/step - loss: 7.4291e-04 - accuracy: 0.0010\n",
            "Epoch 59/100\n",
            "62/62 [==============================] - 7s 119ms/step - loss: 7.6366e-04 - accuracy: 0.0010\n",
            "Epoch 60/100\n",
            "62/62 [==============================] - 8s 130ms/step - loss: 7.9246e-04 - accuracy: 0.0010\n",
            "Epoch 61/100\n",
            "62/62 [==============================] - 7s 113ms/step - loss: 8.2086e-04 - accuracy: 0.0010\n",
            "Epoch 62/100\n",
            "62/62 [==============================] - 8s 135ms/step - loss: 7.3272e-04 - accuracy: 0.0010\n",
            "Epoch 63/100\n",
            "62/62 [==============================] - 8s 123ms/step - loss: 6.7907e-04 - accuracy: 0.0010\n",
            "Epoch 64/100\n",
            "62/62 [==============================] - 7s 119ms/step - loss: 7.2031e-04 - accuracy: 0.0010\n",
            "Epoch 65/100\n",
            "62/62 [==============================] - 8s 130ms/step - loss: 7.0042e-04 - accuracy: 0.0010\n",
            "Epoch 66/100\n",
            "62/62 [==============================] - 7s 112ms/step - loss: 6.8222e-04 - accuracy: 0.0010\n",
            "Epoch 67/100\n",
            "62/62 [==============================] - 8s 128ms/step - loss: 6.9901e-04 - accuracy: 0.0010\n",
            "Epoch 68/100\n",
            "62/62 [==============================] - 8s 127ms/step - loss: 7.4290e-04 - accuracy: 0.0010\n",
            "Epoch 69/100\n",
            "62/62 [==============================] - 7s 118ms/step - loss: 6.3259e-04 - accuracy: 0.0010\n",
            "Epoch 70/100\n",
            "62/62 [==============================] - 8s 130ms/step - loss: 6.2232e-04 - accuracy: 0.0010\n",
            "Epoch 71/100\n",
            "62/62 [==============================] - 7s 114ms/step - loss: 6.7043e-04 - accuracy: 0.0010\n",
            "Epoch 72/100\n",
            "62/62 [==============================] - 8s 130ms/step - loss: 7.2134e-04 - accuracy: 0.0010\n",
            "Epoch 73/100\n",
            "62/62 [==============================] - 8s 134ms/step - loss: 6.6872e-04 - accuracy: 0.0010\n",
            "Epoch 74/100\n",
            "62/62 [==============================] - 7s 115ms/step - loss: 7.0911e-04 - accuracy: 0.0010\n",
            "Epoch 75/100\n",
            "62/62 [==============================] - 8s 129ms/step - loss: 6.6179e-04 - accuracy: 0.0010\n",
            "Epoch 76/100\n",
            "62/62 [==============================] - 7s 111ms/step - loss: 6.8910e-04 - accuracy: 0.0010\n",
            "Epoch 77/100\n",
            "62/62 [==============================] - 8s 129ms/step - loss: 7.1603e-04 - accuracy: 0.0010\n",
            "Epoch 78/100\n",
            "62/62 [==============================] - 8s 134ms/step - loss: 6.1688e-04 - accuracy: 0.0010\n",
            "Epoch 79/100\n",
            "62/62 [==============================] - 7s 115ms/step - loss: 6.4184e-04 - accuracy: 0.0010\n",
            "Epoch 80/100\n",
            "62/62 [==============================] - 8s 132ms/step - loss: 6.3785e-04 - accuracy: 0.0010\n",
            "Epoch 81/100\n",
            "62/62 [==============================] - 11s 181ms/step - loss: 6.5615e-04 - accuracy: 0.0010\n",
            "Epoch 82/100\n",
            "62/62 [==============================] - 8s 121ms/step - loss: 7.2041e-04 - accuracy: 0.0010\n",
            "Epoch 83/100\n",
            "62/62 [==============================] - 8s 132ms/step - loss: 6.5204e-04 - accuracy: 0.0010\n",
            "Epoch 84/100\n",
            "62/62 [==============================] - 8s 122ms/step - loss: 6.0940e-04 - accuracy: 0.0010\n",
            "Epoch 85/100\n",
            "62/62 [==============================] - 8s 121ms/step - loss: 5.9073e-04 - accuracy: 0.0010\n",
            "Epoch 86/100\n",
            "62/62 [==============================] - 8s 133ms/step - loss: 6.2412e-04 - accuracy: 0.0010\n",
            "Epoch 87/100\n",
            "62/62 [==============================] - 7s 112ms/step - loss: 7.0103e-04 - accuracy: 0.0010\n",
            "Epoch 88/100\n",
            "62/62 [==============================] - 8s 131ms/step - loss: 6.5499e-04 - accuracy: 0.0010\n",
            "Epoch 89/100\n",
            "62/62 [==============================] - 8s 124ms/step - loss: 6.7264e-04 - accuracy: 0.0010\n",
            "Epoch 90/100\n",
            "62/62 [==============================] - 8s 122ms/step - loss: 6.7902e-04 - accuracy: 0.0010\n",
            "Epoch 91/100\n",
            "62/62 [==============================] - 8s 131ms/step - loss: 5.5835e-04 - accuracy: 0.0010\n",
            "Epoch 92/100\n",
            "62/62 [==============================] - 7s 111ms/step - loss: 6.6565e-04 - accuracy: 0.0010\n",
            "Epoch 93/100\n",
            "62/62 [==============================] - 8s 131ms/step - loss: 6.3291e-04 - accuracy: 0.0010\n",
            "Epoch 94/100\n",
            "62/62 [==============================] - 8s 127ms/step - loss: 5.9752e-04 - accuracy: 0.0010\n",
            "Epoch 95/100\n",
            "62/62 [==============================] - 7s 111ms/step - loss: 5.7839e-04 - accuracy: 0.0010\n",
            "Epoch 96/100\n",
            "62/62 [==============================] - 8s 133ms/step - loss: 6.0872e-04 - accuracy: 0.0010\n",
            "Epoch 97/100\n",
            "62/62 [==============================] - 7s 115ms/step - loss: 6.1605e-04 - accuracy: 0.0010\n",
            "Epoch 98/100\n",
            "62/62 [==============================] - 8s 131ms/step - loss: 7.4886e-04 - accuracy: 0.0010\n",
            "Epoch 99/100\n",
            "62/62 [==============================] - 8s 130ms/step - loss: 6.3115e-04 - accuracy: 0.0010\n",
            "Epoch 100/100\n",
            "62/62 [==============================] - 7s 110ms/step - loss: 7.8192e-04 - accuracy: 0.0010\n"
          ]
        },
        {
          "output_type": "execute_result",
          "data": {
            "text/plain": [
              "<keras.callbacks.History at 0x7fb52d623ee0>"
            ]
          },
          "metadata": {},
          "execution_count": 9
        }
      ]
    },
    {
      "cell_type": "code",
      "source": [
        "test_loss, test_acc = model.evaluate(X_train, y_train)\n",
        "print(\"Test loss on test samples, \", test_loss)\n",
        "print(\"Test Validation accuracy  test samples, \", test_acc)"
      ],
      "metadata": {
        "colab": {
          "base_uri": "https://localhost:8080/"
        },
        "id": "KudtjWjyXqN5",
        "outputId": "e1f93a9c-7acb-4ca9-bd1f-d7f7591de8dd"
      },
      "execution_count": 10,
      "outputs": [
        {
          "output_type": "stream",
          "name": "stdout",
          "text": [
            "62/62 [==============================] - 5s 46ms/step - loss: 2.6511e-04 - accuracy: 0.0010\n",
            "Test loss on test samples,  0.0002651079557836056\n",
            "Test Validation accuracy  test samples,  0.0010126582346856594\n"
          ]
        }
      ]
    },
    {
      "cell_type": "code",
      "source": [
        "correlation_matrix = dataset_train.corr()\n",
        "sb.heatmap(correlation_matrix, annot = False, cmap = \"coolwarm\")\n",
        "\n",
        "plt.title(\"Correlation Heatmap\")\n",
        "plt.show()"
      ],
      "metadata": {
        "colab": {
          "base_uri": "https://localhost:8080/",
          "height": 633
        },
        "id": "S01e1txzXQ8w",
        "outputId": "811cb2e0-8e24-47d4-cd3b-ce8d191e2f82"
      },
      "execution_count": 11,
      "outputs": [
        {
          "output_type": "stream",
          "name": "stderr",
          "text": [
            "<ipython-input-11-57ed37228211>:1: FutureWarning: The default value of numeric_only in DataFrame.corr is deprecated. In a future version, it will default to False. Select only valid columns or specify the value of numeric_only to silence this warning.\n",
            "  correlation_matrix = dataset_train.corr()\n"
          ]
        },
        {
          "output_type": "display_data",
          "data": {
            "text/plain": [
              "<Figure size 640x480 with 2 Axes>"
            ],
            "image/png": "[encoded data removed]"
          },
          "metadata": {}
        }
      ]
    },
    {
      "cell_type": "code",
      "source": [
        "#Importing test dataset\n",
        "url = 'https://raw.githubusercontent.com/mwitiderrick/stockprice/master/tatatest.csv'\n",
        "dataset_test = pd.read_csv(url)\n",
        "real_stock_price = dataset_test.iloc[:, 1:2].values"
      ],
      "metadata": {
        "id": "UFDTaDyUXFo7"
      },
      "execution_count": 12,
      "outputs": []
    },
    {
      "cell_type": "code",
      "source": [
        "dataset_total = pd.concat((dataset_train['Open'], dataset_test['Open']), axis = 0)\n",
        "inputs = dataset_total[len(dataset_total) - len(dataset_test) - 60:].values\n",
        "inputs = inputs.reshape(-1,1)\n",
        "inputs = sc.transform(inputs)\n",
        "X_test = []\n",
        "for i in range(60, 76):\n",
        "    X_test.append(inputs[i-60:i, 0])\n",
        "X_test = np.array(X_test)\n",
        "X_test = np.reshape(X_test, (X_test.shape[0], X_test.shape[1], 1))\n",
        "predicted_stock_price = model.predict(X_test)\n",
        "predicted_stock_price = sc.inverse_transform(predicted_stock_price)"
      ],
      "metadata": {
        "colab": {
          "base_uri": "https://localhost:8080/"
        },
        "id": "xGZomFDoXIxG",
        "outputId": "244deb84-21c4-417d-dd0d-c3a693fa0489"
      },
      "execution_count": 13,
      "outputs": [
        {
          "output_type": "stream",
          "name": "stdout",
          "text": [
            "1/1 [==============================] - 2s 2s/step\n"
          ]
        }
      ]
    },
    {
      "cell_type": "code",
      "source": [
        "plt.plot(real_stock_price, color = 'black', label = 'TATA Stock Price')\n",
        "plt.plot(predicted_stock_price, color = 'green', label = 'Predicted TATA Stock Price')\n",
        "plt.title('TATA Stock Price Prediction')\n",
        "plt.xlabel('Time')\n",
        "plt.ylabel('TATA Stock Price')\n",
        "plt.legend()\n",
        "plt.show()"
      ],
      "metadata": {
        "colab": {
          "base_uri": "https://localhost:8080/",
          "height": 472
        },
        "id": "nOBgFYZQXO5s",
        "outputId": "4d20db7d-51d4-4f07-d3f5-9eeb9cac22c5"
      },
      "execution_count": 14,
      "outputs": [
        {
          "output_type": "display_data",
          "data": {
            "text/plain": [
              "<Figure size 640x480 with 1 Axes>"
            ],
            "image/png": "[encoded data removed]"
          },
          "metadata": {}
        }
      ]
    }
  ]
}